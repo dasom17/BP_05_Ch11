{
  "nbformat": 4,
  "nbformat_minor": 0,
  "metadata": {
    "colab": {
      "provenance": [],
      "authorship_tag": "ABX9TyNNg5oKexhBqMC6dflS2h79",
      "include_colab_link": true
    },
    "kernelspec": {
      "name": "python3",
      "display_name": "Python 3"
    },
    "language_info": {
      "name": "python"
    }
  },
  "cells": [
    {
      "cell_type": "markdown",
      "metadata": {
        "id": "view-in-github",
        "colab_type": "text"
      },
      "source": [
        "<a href=\"https://colab.research.google.com/github/dasom17/BP_05_Ch11/blob/main/BP_05_EX_Ch11.ipynb\" target=\"_parent\"><img src=\"https://colab.research.google.com/assets/colab-badge.svg\" alt=\"Open In Colab\"/></a>"
      ]
    },
    {
      "cell_type": "markdown",
      "source": [
        "1. 사용자가 입력한 텍스트 파일을 열어서 파일 안에 글자가 몇 개나 있는지를 계산하는 프로그램을 작성하라."
      ],
      "metadata": {
        "id": "5ZKsQxFE2Ptm"
      }
    },
    {
      "cell_type": "markdown",
      "source": [
        "2. 사용자로부터 파일 이름과 삭제할 문자열을 입력받는다. 파일을 열어서 사용자가 원하는 문자열을 삭제한 후에 다시 파일에 쓴다."
      ],
      "metadata": {
        "id": "xv-K_QNK2YI-"
      }
    },
    {
      "cell_type": "markdown",
      "source": [
        "3. "
      ],
      "metadata": {
        "id": "ZNsDehpQ2sGv"
      }
    },
    {
      "cell_type": "code",
      "execution_count": null,
      "metadata": {
        "id": "8nL_KPFhm1l7"
      },
      "outputs": [],
      "source": []
    }
  ]
}